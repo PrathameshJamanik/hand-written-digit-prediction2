{
  "nbformat": 4,
  "nbformat_minor": 0,
  "metadata": {
    "colab": {
      "provenance": [],
      "authorship_tag": "ABX9TyPFTS/YYMME5lkgWdZnYdku",
      "include_colab_link": true
    },
    "kernelspec": {
      "name": "python3",
      "display_name": "Python 3"
    },
    "language_info": {
      "name": "python"
    }
  },
  "cells": [
    {
      "cell_type": "markdown",
      "metadata": {
        "id": "view-in-github",
        "colab_type": "text"
      },
      "source": [
        "<a href=\"https://colab.research.google.com/github/PrathameshJamanik/hand-written-digit-prediction2/blob/main/HandWrittenDigitPrediction2.ipynb\" target=\"_parent\"><img src=\"https://colab.research.google.com/assets/colab-badge.svg\" alt=\"Open In Colab\"/></a>"
      ]
    },
    {
      "cell_type": "code",
      "execution_count": null,
      "metadata": {
        "id": "BhTQ5NuA95G7"
      },
      "outputs": [],
      "source": []
    },
    {
      "cell_type": "code",
      "source": [
        "import numpy as np\n",
        "import matplotlib.pyplot as plt\n",
        "import tensorflow as tf\n",
        "from tensorflow.keras.datasets import mnist\n",
        "from tensorflow.keras import layers, models\n",
        "\n",
        "# Load the data\n",
        "(train_images, train_labels), (test_images, test_labels) = mnist.load_data()\n",
        "\n",
        "# Normalize the images\n",
        "train_images = train_images / 255.0\n",
        "test_images = test_images / 255.0\n",
        "\n",
        "# Reshape the images to add a color channel dimension\n",
        "train_images = train_images.reshape((train_images.shape[0], 28, 28, 1))\n",
        "test_images = test_images.reshape((test_images.shape[0], 28, 28, 1))\n",
        "\n",
        "# Build the model\n",
        "model = models.Sequential()\n",
        "model.add(layers.Conv2D(32, (3, 3), activation='relu', input_shape=(28, 28, 1)))\n",
        "model.add(layers.MaxPooling2D((2, 2)))\n",
        "model.add(layers.Conv2D(64, (3, 3), activation='relu'))\n",
        "model.add(layers.MaxPooling2D((2, 2)))\n",
        "model.add(layers.Conv2D(64, (3, 3), activation='relu'))\n",
        "\n",
        "model.add(layers.Flatten())\n",
        "model.add(layers.Dense(64, activation='relu'))\n",
        "model.add(layers.Dense(10, activation='softmax'))\n",
        "\n",
        "# Compile the model\n",
        "model.compile(optimizer='adam',\n",
        "              loss='sparse_categorical_crossentropy',\n",
        "              metrics=['accuracy'])\n",
        "\n",
        "# Train the model\n",
        "history = model.fit(train_images, train_labels, epochs=5,\n",
        "                    validation_data=(test_images, test_labels))\n",
        "\n",
        "# Evaluate the model\n",
        "test_loss, test_acc = model.evaluate(test_images, test_labels)\n",
        "print(f\"Test accuracy: {test_acc}\")\n",
        "\n",
        "# Make predictions\n",
        "predictions = model.predict(test_images)\n",
        "\n",
        "# Display the first test image, true label, and predicted label\n",
        "plt.figure()\n",
        "plt.imshow(test_images[0].reshape(28, 28), cmap=plt.cm.binary)\n",
        "plt.title(f\"True Label: {test_labels[0]}, Predicted Label: {np.argmax(predictions[0])}\")\n",
        "plt.show()\n"
      ],
      "metadata": {
        "colab": {
          "base_uri": "https://localhost:8080/",
          "height": 712
        },
        "id": "7cU_sTCg97RL",
        "outputId": "93fcbb49-6c2b-4c2c-c6a6-8a7e86dcf1f9"
      },
      "execution_count": 1,
      "outputs": [
        {
          "output_type": "stream",
          "name": "stdout",
          "text": [
            "Downloading data from https://storage.googleapis.com/tensorflow/tf-keras-datasets/mnist.npz\n",
            "11490434/11490434 [==============================] - 0s 0us/step\n",
            "Epoch 1/5\n",
            "1875/1875 [==============================] - 71s 37ms/step - loss: 0.1513 - accuracy: 0.9537 - val_loss: 0.0449 - val_accuracy: 0.9860\n",
            "Epoch 2/5\n",
            "1875/1875 [==============================] - 54s 29ms/step - loss: 0.0478 - accuracy: 0.9850 - val_loss: 0.0326 - val_accuracy: 0.9887\n",
            "Epoch 3/5\n",
            "1875/1875 [==============================] - 55s 30ms/step - loss: 0.0333 - accuracy: 0.9894 - val_loss: 0.0308 - val_accuracy: 0.9912\n",
            "Epoch 4/5\n",
            "1875/1875 [==============================] - 54s 29ms/step - loss: 0.0257 - accuracy: 0.9918 - val_loss: 0.0301 - val_accuracy: 0.9907\n",
            "Epoch 5/5\n",
            "1875/1875 [==============================] - 52s 28ms/step - loss: 0.0201 - accuracy: 0.9937 - val_loss: 0.0295 - val_accuracy: 0.9911\n",
            "313/313 [==============================] - 3s 8ms/step - loss: 0.0295 - accuracy: 0.9911\n",
            "Test accuracy: 0.991100013256073\n",
            "313/313 [==============================] - 3s 8ms/step\n"
          ]
        },
        {
          "output_type": "display_data",
          "data": {
            "text/plain": [
              "<Figure size 640x480 with 1 Axes>"
            ],
            "image/png": "[encoded data removed]"
          },
          "metadata": {}
        }
      ]
    },
    {
      "cell_type": "markdown",
      "source": [
        "# New Section"
      ],
      "metadata": {
        "id": "yxw6wkL8CJTA"
      }
    },
    {
      "cell_type": "markdown",
      "source": [],
      "metadata": {
        "id": "9jhN6WSSA3V1"
      }
    }
  ]
}